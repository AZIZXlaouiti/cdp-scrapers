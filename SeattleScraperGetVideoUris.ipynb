{
 "cells": [
  {
   "cell_type": "markdown",
   "id": "6d1c0c29",
   "metadata": {},
   "source": [
    "Legistar API does define key \"EventVideoPath\" in `Event`. Seattle, however, does not use that field for its legistations."
   ]
  },
  {
   "cell_type": "code",
   "execution_count": 1,
   "id": "3e83072f",
   "metadata": {},
   "outputs": [],
   "source": [
    "from cdp_scrapers.legistar_utils import get_legistar_events_for_timespan\n",
    "from datetime import datetime\n",
    "legistar_evs = get_legistar_events_for_timespan(\n",
    "    'seattle',\n",
    "    begin=datetime(2021, 8, 3),\n",
    "    end=datetime(2021, 8, 5)\n",
    ")"
   ]
  },
  {
   "cell_type": "code",
   "execution_count": 3,
   "id": "d62d8ff8",
   "metadata": {},
   "outputs": [
    {
     "name": "stdout",
     "output_type": "stream",
     "text": [
      "None\n"
     ]
    }
   ],
   "source": [
    "print(legistar_evs[0][\"EventVideoPath\"])\n",
    "#print(legistar_evs[0])"
   ]
  },
  {
   "cell_type": "markdown",
   "id": "202f870f",
   "metadata": {},
   "source": [
    "What is available instead is a URL to a web site for this event in \"EventInSiteURL\""
   ]
  },
  {
   "cell_type": "code",
   "execution_count": 4,
   "id": "93fdb4e6",
   "metadata": {},
   "outputs": [
    {
     "name": "stdout",
     "output_type": "stream",
     "text": [
      "https://seattle.legistar.com/MeetingDetail.aspx?LEGID=4831&GID=393&G=FFE3B678-CEF6-4197-84AC-5204EA4CFC0C\n"
     ]
    }
   ],
   "source": [
    "print(legistar_evs[0][\"EventInSiteURL\"])"
   ]
  },
  {
   "cell_type": "markdown",
   "id": "707fabe8",
   "metadata": {},
   "source": [
    "On that web page, there is a \"Meeting video\" with a link to another web page. If you view the page source and search for \"Meeeting video\", you can see that the link is an `a` tag like `<a id=\"ctl00_ContentPlaceHolder1_hypVideo\"... href=\"http://seattlechannel.org...\" ...>`"
   ]
  },
  {
   "cell_type": "code",
   "execution_count": 6,
   "id": "f71b8888",
   "metadata": {},
   "outputs": [
    {
     "name": "stdout",
     "output_type": "stream",
     "text": [
      "http://seattlechannel.org/mayor-and-council/city-council/2020-2021-finance-and-housing-committee/?videoid=x130988&amp;Mode2=Video\n"
     ]
    }
   ],
   "source": [
    "from urllib.request import urlopen\n",
    "from bs4 import BeautifulSoup\n",
    "import re\n",
    "\n",
    "# load the seattle.legistar.com web page for parsing\n",
    "with urlopen(legistar_evs[0][\"EventInSiteURL\"]) as resp:\n",
    "    soup = BeautifulSoup(resp.read(), \"html.parser\")\n",
    "\n",
    "# get the href attribute from the a tag with a certain id pattern\n",
    "video_page_url = soup.find(\n",
    "    \"a\",\n",
    "    id=re.compile(r\"ct\\S*_ContentPlaceHolder\\S*_hypVideo\"),\n",
    "    class_=\"videolink\",\n",
    ")[\"href\"]\n",
    "\n",
    "print(video_page_url)"
   ]
  },
  {
   "cell_type": "markdown",
   "id": "04cf06ba",
   "metadata": {},
   "source": [
    "Now do another round of page source examination to finally get the URI to the video and caption. They are given inside a `script` tag like\n",
    "```\n",
    "...\n",
    "playerInstance.setup({\n",
    "sources: [\n",
    "    {\n",
    "        file: \"video.seattle.gov/media/council/fin_080321_2612131V.mp4\",\n",
    "        label: \"Auto\"\n",
    "    }\n",
    "]\n",
    "...\n",
    "tracks: [{\n",
    "    file: \"documents/seattlechannel/closedcaption/2021/fin_080321_2612131.vtt\",\n",
    "    label: \"English\",\n",
    "    kind: \"captions\",\n",
    "    \"default\": true\n",
    "}\n",
    "...\n",
    "```"
   ]
  },
  {
   "cell_type": "code",
   "execution_count": 8,
   "id": "167870b5",
   "metadata": {},
   "outputs": [
    {
     "name": "stdout",
     "output_type": "stream",
     "text": [
      "{\r\n",
      "            sources: [\r\n",
      "                {\r\n",
      "                    file: \"//video.seattle.gov/media/council/fin_080321_2612131V.mp4\",\r\n",
      "                    label: \"Auto\"\r\n",
      "                }\r\n",
      "            ],\r\n",
      "            image: \"images/seattlechannel/videos/2021/Q3/finance_080321.jpg\",\r\n",
      "            primary: \"html5\",\r\n",
      "\r\n",
      "                \r\n",
      "                tracks: [{\r\n",
      "                    file: \"documents/seattlechannel/closedcaption/2021/fin_080321_2612131.vtt\",\r\n",
      "                    label: \"English\",\r\n",
      "                    kind: \"captions\",\r\n",
      "                    \"default\": true\r\n",
      "                }\r\n",
      "                \r\n",
      "                 ], \r\n",
      "                sharing: {\r\n",
      "                        code: encodeURI(embedCode),\r\n",
      "                        link: shareLink\r\n",
      "                    },\r\n",
      "                ga: {\r\n",
      "                    idstring:'Finance &amp; Housing Committee 8/3/21'\r\n",
      "                }\r\n",
      "            }\n"
     ]
    }
   ],
   "source": [
    "# load the video page to get the actual video url\n",
    "with urlopen(video_page_url) as resp:\n",
    "    soup = BeautifulSoup(resp.read(), \"html.parser\")\n",
    "\n",
    "# entire script tag text that has the video player setup call\n",
    "video_script_text = soup.find(\n",
    "    \"script\", text=re.compile(r\"playerInstance\\.setup\")\n",
    ").string\n",
    "\n",
    "# beginning of the {...} inside playerInstance.setup()\n",
    "player_arg_start = re.search(\n",
    "    r\"playerInstance\\.setup\\((\\{)\", video_script_text\n",
    ").start(1)\n",
    "\n",
    "# finding the end of the playerInstance.setup() blob by looking for\n",
    "# the next playerInstance object reference following the closing )\n",
    "video_json_blob = video_script_text[\n",
    "    player_arg_start : player_arg_start\n",
    "    + re.search(\n",
    "        r\"\\)\\;\\s*\\n\\s*playerInstance\", video_script_text[player_arg_start:]\n",
    "    ).start(0)\n",
    "]\n",
    "\n",
    "print(video_json_blob)"
   ]
  },
  {
   "cell_type": "code",
   "execution_count": 9,
   "id": "e479f7b5",
   "metadata": {},
   "outputs": [
    {
     "name": "stdout",
     "output_type": "stream",
     "text": [
      "['https://video.seattle.gov/media/council/fin_080321_2612131V.mp4']\n",
      "['https://www.seattlechannel.org/documents/seattlechannel/closedcaption/2021/fin_080321_2612131.vtt']\n"
     ]
    }
   ],
   "source": [
    "# where \"sources:\" start\n",
    "videos_start = video_json_blob.find(\"sources:\")\n",
    "# where the closing ] is after \"sources:\"\n",
    "videos_end = video_json_blob.find(\"],\", videos_start)\n",
    "# as shown above, url will start with // so prepend https:\n",
    "video_uris = [\n",
    "    \"https:\" + i\n",
    "    for i in re.findall(\n",
    "        r\"file\\:\\s*\\\"([^\\\"]+)\",\n",
    "        video_json_blob[videos_start:videos_end],\n",
    "    )\n",
    "]\n",
    "\n",
    "captions_start = video_json_blob.find(\"tracks:\")\n",
    "captions_end = video_json_blob.find(\"],\", captions_start)\n",
    "caption_uris = [\n",
    "    \"https://www.seattlechannel.org/\" + i\n",
    "    for i in re.findall(\n",
    "        r\"file\\:\\s*\\\"([^\\\"]+)\",\n",
    "        video_json_blob[captions_start:captions_end],\n",
    "    )\n",
    "]\n",
    "\n",
    "print(video_uris)\n",
    "print(caption_uris)"
   ]
  },
  {
   "cell_type": "code",
   "execution_count": null,
   "id": "6c72171f",
   "metadata": {},
   "outputs": [],
   "source": []
  }
 ],
 "metadata": {
  "kernelspec": {
   "display_name": "Python 3",
   "language": "python",
   "name": "python3"
  },
  "language_info": {
   "codemirror_mode": {
    "name": "ipython",
    "version": 3
   },
   "file_extension": ".py",
   "mimetype": "text/x-python",
   "name": "python",
   "nbconvert_exporter": "python",
   "pygments_lexer": "ipython3",
   "version": "3.9.5"
  }
 },
 "nbformat": 4,
 "nbformat_minor": 5
}
